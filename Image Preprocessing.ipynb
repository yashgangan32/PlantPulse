{
 "cells": [
  {
   "cell_type": "code",
   "execution_count": 6,
   "id": "27df75a3-7f2e-46d3-861c-79f2d1df0702",
   "metadata": {},
   "outputs": [],
   "source": [
    "import numpy as np\n",
    "%matplotlib inline"
   ]
  },
  {
   "cell_type": "code",
   "execution_count": 44,
   "id": "92108dc5-6f40-42ad-a251-7c096efdc71f",
   "metadata": {},
   "outputs": [],
   "source": [
    "import cv2\n",
    "from matplotlib import pyplot as plt\n",
    "def imgch(img):\n",
    "    #lab_img=cv2.cvtColor(img,cv2.COLOR_BGR2LAB)\n",
    "    #l,a,b=cv2.split(lab_img)\n",
    "    #clahe=cv2.createCLAHE(clipLimit=3.0,tileGridSize=(8,8))\n",
    "    #equ=clahe.apply(l)\n",
    "    #equ=cv2.equalizeHist(l)\n",
    "    #updated_lab_img =cv2.merge((equ,a,b))\n",
    "    #imp= cv2.cvtColor(updated_lab_img,cv2.COLOR_LAB2BGR)\n",
    "    #return imp\n",
    "    image = cv2.cvtColor(img, cv2.COLOR_BGR2RGB)\n",
    "    pixel_vals = image.reshape((-1,3))\n",
    "    pixel_vals = np.float32(pixel_vals)\n",
    "    criteria = (cv2.TERM_CRITERIA_EPS + cv2.TERM_CRITERIA_MAX_ITER, 10, 0.85)\n",
    "    k = 5\n",
    "    retva6, labels, centers = cv2.kmeans(pixel_vals, k, None, criteria, 15, cv2.KMEANS_RANDOM_CENTERS)\n",
    "    centers = np.uint8(centers)\n",
    "    segmented_data = centers[labels.flatten()]\n",
    "    return segmented_data.reshape((image.shape))"
   ]
  },
  {
   "cell_type": "code",
   "execution_count": 45,
   "id": "f7640e5d-fed5-49b7-86b2-1adc87eb1da9",
   "metadata": {},
   "outputs": [
    {
     "name": "stdout",
     "output_type": "stream",
     "text": [
      "13127\n",
      "5613\n"
     ]
    }
   ],
   "source": [
    "j=0\n",
    "import os\n",
    "path=\"New folder (2)/Train/\"\n",
    "#im_size=400\n",
    "leaf_types=os.listdir('New folder (2)/Train/')\n",
    "leaf_types\n",
    "for i in leaf_types:\n",
    "  data_path=path+str(i)\n",
    "  filenames=[i for i in os.listdir(data_path)]\n",
    "  print(len(filenames))\n",
    "  #print(filenames)\n",
    "  for f in filenames:\n",
    "    x=int(f[:-4])\n",
    "    if x%40==0:\n",
    "        img=cv2.imread(data_path+'/'+f)\n",
    "        img=imgch(img)\n",
    "        #img=cv2.resize(img,(im_size,im_size))\n",
    "        fn=\"New folder/Train/Defected/\"+str(j)+\".jpg\"\n",
    "        cv2.imwrite(fn, img)\n",
    "        j=j+1"
   ]
  },
  {
   "cell_type": "raw",
   "id": "f76637d6-8417-4a51-8c27-4faf0eca0de7",
   "metadata": {},
   "source": [
    "j=0\n",
    "import os\n",
    "path=\"New folder (2)/Train/\"\n",
    "#im_size=400\n",
    "leaf_types=os.listdir('New folder (2)/Train/')\n",
    "leaf_types\n",
    "for i in leaf_types:\n",
    "  data_path=path+str(i)\n",
    "  filenames=[i for i in os.listdir(data_path)]\n",
    "  print(len(filenames))\n",
    "  #print(filenames)\n",
    "  for f in filenames:\n",
    "    img=cv2.imread(data_path+'/'+f)\n",
    "    img=imgch(img)\n",
    "    #img=cv2.resize(img,(im_size,im_size))\n",
    "    fn=\"New folder/Train/Defected/\"+str(j)+\".jpg\"\n",
    "    cv2.imwrite(fn, img)\n",
    "    j=j+1"
   ]
  },
  {
   "cell_type": "code",
   "execution_count": 46,
   "id": "fbbe4507-18e6-4b81-9b88-a06b720e5e08",
   "metadata": {},
   "outputs": [
    {
     "name": "stdout",
     "output_type": "stream",
     "text": [
      "900\n",
      "510\n"
     ]
    }
   ],
   "source": [
    "j=200\n",
    "import os\n",
    "path=\"New folder (2)/Test/\"\n",
    "#im_size=400\n",
    "leaf_types=os.listdir('New folder (2)/Test/')\n",
    "leaf_types\n",
    "for i in leaf_types:\n",
    "  data_path=path+str(i)\n",
    "  filenames=[i for i in os.listdir(data_path)]\n",
    "  print(len(filenames))\n",
    "  #print(filenames)\n",
    "  for f in filenames:\n",
    "    x=int(f[:-4])\n",
    "    if x%10==0:\n",
    "        img=cv2.imread(data_path+'/'+f)\n",
    "        img=imgch(img)\n",
    "        #img=cv2.resize(img,(im_size,im_size))\n",
    "        fn=\"New folder/Test/Defected/\"+str(j)+\".jpg\"\n",
    "        cv2.imwrite(fn, img)\n",
    "        j=j+1"
   ]
  },
  {
   "cell_type": "raw",
   "id": "b612307e-1e9b-448f-9ca3-6cf4c83e5095",
   "metadata": {},
   "source": [
    "j=20000\n",
    "import os\n",
    "path=\"New folder (2)/Test/\"\n",
    "im_size=400\n",
    "images=[]\n",
    "labels=[]\n",
    "leaf_types=os.listdir('New folder (2)/Test/')\n",
    "leaf_types\n",
    "for i in leaf_types:\n",
    "  data_path=path+str(i)\n",
    "  filenames=[i for i in os.listdir(data_path)]\n",
    "  print(len(filenames))\n",
    "  #print(filenames)\n",
    "  for f in filenames:\n",
    "    img=cv2.imread(data_path+'/'+f)\n",
    "    img=imgch(img)\n",
    "    #img=cv2.resize(img,(im_size,im_size))\n",
    "    fn=\"New folder/Test/Defected/\"+str(j)+\".jpg\"\n",
    "    cv2.imwrite(fn, img)\n",
    "    j=j+1"
   ]
  },
  {
   "cell_type": "code",
   "execution_count": null,
   "id": "f2731e28-3fc8-448d-b874-d92843164290",
   "metadata": {},
   "outputs": [],
   "source": []
  }
 ],
 "metadata": {
  "kernelspec": {
   "display_name": "Python 3 (ipykernel)",
   "language": "python",
   "name": "python3"
  },
  "language_info": {
   "codemirror_mode": {
    "name": "ipython",
    "version": 3
   },
   "file_extension": ".py",
   "mimetype": "text/x-python",
   "name": "python",
   "nbconvert_exporter": "python",
   "pygments_lexer": "ipython3",
   "version": "3.11.0"
  }
 },
 "nbformat": 4,
 "nbformat_minor": 5
}
